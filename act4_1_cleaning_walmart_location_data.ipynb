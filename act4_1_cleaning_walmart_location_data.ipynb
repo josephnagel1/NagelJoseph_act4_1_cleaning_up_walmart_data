{
 "cells": [
  {
   "cell_type": "markdown",
   "id": "d1048d72",
   "metadata": {},
   "source": [
    "# Activity 4.1 - Cleaning Walmart Data the OpenRefine Way\n",
    "\n",
    "In this activity, you will practice what you learned in Lecture 4.5 by cleaning up a data set containing information on various Walmart locations."
   ]
  },
  {
   "cell_type": "code",
   "execution_count": 24,
   "id": "9f0382a3",
   "metadata": {},
   "outputs": [],
   "source": [
    "import pandas as pd\n",
    "from dfply import *"
   ]
  },
  {
   "cell_type": "markdown",
   "id": "69f1af55",
   "metadata": {},
   "source": [
    "#### Initial Tasks\n",
    "\n",
    "1. Try to read in the `./data/Walmart_United_States_&_Canada.csv` file and verify that you get an encoding error.  This means that the [character encoding](https://en.wikipedia.org/wiki/Character_encoding) isn't the default of `utf-8`.  The easiest way to fix this is to open and save the file in Visual Studio Code."
   ]
  },
  {
   "cell_type": "code",
   "execution_count": 25,
   "id": "7ece834c",
   "metadata": {},
   "outputs": [],
   "source": [
    "walmart = pd.read_csv('data/Walmart_United_States_&_Canada.csv')"
   ]
  },
  {
   "cell_type": "markdown",
   "id": "a4d4fb33",
   "metadata": {},
   "source": [
    "2. Read in the data to verify that the encoding is fixed, but that there are two more problems.  What are they?"
   ]
  },
  {
   "cell_type": "code",
   "execution_count": 26,
   "id": "df96b590",
   "metadata": {},
   "outputs": [],
   "source": [
    "walmart = pd.read_csv('data/Walmart_United_States_&_Canada.csv')"
   ]
  },
  {
   "cell_type": "code",
   "execution_count": 27,
   "id": "55441f31",
   "metadata": {},
   "outputs": [
    {
     "data": {
      "text/html": [
       "<div>\n",
       "<style scoped>\n",
       "    .dataframe tbody tr th:only-of-type {\n",
       "        vertical-align: middle;\n",
       "    }\n",
       "\n",
       "    .dataframe tbody tr th {\n",
       "        vertical-align: top;\n",
       "    }\n",
       "\n",
       "    .dataframe thead th {\n",
       "        text-align: right;\n",
       "    }\n",
       "</style>\n",
       "<table border=\"1\" class=\"dataframe\">\n",
       "  <thead>\n",
       "    <tr style=\"text-align: right;\">\n",
       "      <th></th>\n",
       "      <th>-114.005671</th>\n",
       "      <th>51.262567</th>\n",
       "      <th>Walmart Supercentre; #1050,</th>\n",
       "      <th>2881 Main St SW,Airdrie ,AB T4B 3G5,(403) 945-1295</th>\n",
       "    </tr>\n",
       "  </thead>\n",
       "  <tbody>\n",
       "    <tr>\n",
       "      <th>0</th>\n",
       "      <td>-111.900542</td>\n",
       "      <td>50.577939</td>\n",
       "      <td>Walmart Supercentre; #3658,</td>\n",
       "      <td>917 3rd St W,Brooks ,AB T1R 1L5,(403) 793-2111</td>\n",
       "    </tr>\n",
       "    <tr>\n",
       "      <th>1</th>\n",
       "      <td>-114.039133</td>\n",
       "      <td>51.107253</td>\n",
       "      <td>Walmart Supercentre; #3013,</td>\n",
       "      <td>1110 57th Ave NE,Calgary ,(NOP),AB T2E 9B7,(40...</td>\n",
       "    </tr>\n",
       "    <tr>\n",
       "      <th>2</th>\n",
       "      <td>-114.138488</td>\n",
       "      <td>51.040871</td>\n",
       "      <td>Walmart Supercentre; #3009,Gas,</td>\n",
       "      <td>1212 37 St SW,Calgary ,(NOP),AB T3C 1S3,(403) ...</td>\n",
       "    </tr>\n",
       "    <tr>\n",
       "      <th>3</th>\n",
       "      <td>-114.028603</td>\n",
       "      <td>50.930551</td>\n",
       "      <td>Walmart; #1144,</td>\n",
       "      <td>1221 Canyon Meadows Dr SE,Calgary ,AB T2J 6G2,...</td>\n",
       "    </tr>\n",
       "    <tr>\n",
       "      <th>4</th>\n",
       "      <td>-113.911590</td>\n",
       "      <td>51.040090</td>\n",
       "      <td>Walmart Supercentre; #1136,</td>\n",
       "      <td>255 E Hills Blvd SE,Calgary ,AB T2A 4X7,(403) ...</td>\n",
       "    </tr>\n",
       "  </tbody>\n",
       "</table>\n",
       "</div>"
      ],
      "text/plain": [
       "   -114.005671  51.262567      Walmart Supercentre; #1050,  \\\n",
       "0  -111.900542  50.577939      Walmart Supercentre; #3658,   \n",
       "1  -114.039133  51.107253      Walmart Supercentre; #3013,   \n",
       "2  -114.138488  51.040871  Walmart Supercentre; #3009,Gas,   \n",
       "3  -114.028603  50.930551                  Walmart; #1144,   \n",
       "4  -113.911590  51.040090      Walmart Supercentre; #1136,   \n",
       "\n",
       "  2881 Main St SW,Airdrie ,AB T4B 3G5,(403) 945-1295  \n",
       "0     917 3rd St W,Brooks ,AB T1R 1L5,(403) 793-2111  \n",
       "1  1110 57th Ave NE,Calgary ,(NOP),AB T2E 9B7,(40...  \n",
       "2  1212 37 St SW,Calgary ,(NOP),AB T3C 1S3,(403) ...  \n",
       "3  1221 Canyon Meadows Dr SE,Calgary ,AB T2J 6G2,...  \n",
       "4  255 E Hills Blvd SE,Calgary ,AB T2A 4X7,(403) ...  "
      ]
     },
     "execution_count": 27,
     "metadata": {},
     "output_type": "execute_result"
    }
   ],
   "source": [
    "walmart.head()"
   ]
  },
  {
   "cell_type": "markdown",
   "id": "21292c92",
   "metadata": {},
   "source": [
    "The columns do not have headers. The first value has been filled into the header. The store type and identifier are in one column separated by a semicolon. There is a random comma after the store number. The address, phone number, and other information is all stored in one column."
   ]
  },
  {
   "cell_type": "markdown",
   "id": "d25342e5",
   "metadata": {},
   "source": [
    "3. Take another look at the file in VS Code and determine solutions to the two/three issues, then read in the data correctly by passing `pd.read_csv` the correct defaults for this data. **Note.** Leave the `\"` in place for now, as they serve an important role here!"
   ]
  },
  {
   "cell_type": "code",
   "execution_count": 28,
   "id": "bc1ac469",
   "metadata": {},
   "outputs": [],
   "source": [
    "# help(pd.read_csv) # This might help!"
   ]
  },
  {
   "cell_type": "markdown",
   "id": "731bdd25",
   "metadata": {},
   "source": [
    "We need to add column headers here."
   ]
  },
  {
   "cell_type": "code",
   "execution_count": 41,
   "id": "1cf92ae9",
   "metadata": {},
   "outputs": [],
   "source": [
    "headers = ['lat', 'long', 'store', 'address', 'province/state', 'phone']\n",
    "\n",
    "walmart_headers = pd.read_csv('data/Walmart_United_States_&_Canada.csv', names = headers, sep = ',')"
   ]
  },
  {
   "cell_type": "code",
   "execution_count": 42,
   "id": "ce329fdd",
   "metadata": {},
   "outputs": [
    {
     "data": {
      "text/html": [
       "<div>\n",
       "<style scoped>\n",
       "    .dataframe tbody tr th:only-of-type {\n",
       "        vertical-align: middle;\n",
       "    }\n",
       "\n",
       "    .dataframe tbody tr th {\n",
       "        vertical-align: top;\n",
       "    }\n",
       "\n",
       "    .dataframe thead th {\n",
       "        text-align: right;\n",
       "    }\n",
       "</style>\n",
       "<table border=\"1\" class=\"dataframe\">\n",
       "  <thead>\n",
       "    <tr style=\"text-align: right;\">\n",
       "      <th></th>\n",
       "      <th>lat</th>\n",
       "      <th>long</th>\n",
       "      <th>store</th>\n",
       "      <th>address</th>\n",
       "      <th>province/state</th>\n",
       "      <th>phone</th>\n",
       "    </tr>\n",
       "  </thead>\n",
       "  <tbody>\n",
       "    <tr>\n",
       "      <th>0</th>\n",
       "      <td>-114.005671</td>\n",
       "      <td>51.262567</td>\n",
       "      <td>Walmart Supercentre; #1050,</td>\n",
       "      <td>2881 Main St SW,Airdrie ,AB T4B 3G5,(403) 945-...</td>\n",
       "      <td>NaN</td>\n",
       "      <td>NaN</td>\n",
       "    </tr>\n",
       "    <tr>\n",
       "      <th>1</th>\n",
       "      <td>-111.900542</td>\n",
       "      <td>50.577939</td>\n",
       "      <td>Walmart Supercentre; #3658,</td>\n",
       "      <td>917 3rd St W,Brooks ,AB T1R 1L5,(403) 793-2111</td>\n",
       "      <td>NaN</td>\n",
       "      <td>NaN</td>\n",
       "    </tr>\n",
       "  </tbody>\n",
       "</table>\n",
       "</div>"
      ],
      "text/plain": [
       "          lat       long                        store  \\\n",
       "0 -114.005671  51.262567  Walmart Supercentre; #1050,   \n",
       "1 -111.900542  50.577939  Walmart Supercentre; #3658,   \n",
       "\n",
       "                                             address  province/state  phone  \n",
       "0  2881 Main St SW,Airdrie ,AB T4B 3G5,(403) 945-...             NaN    NaN  \n",
       "1     917 3rd St W,Brooks ,AB T1R 1L5,(403) 793-2111             NaN    NaN  "
      ]
     },
     "execution_count": 42,
     "metadata": {},
     "output_type": "execute_result"
    }
   ],
   "source": [
    "walmart_headers.head(2)"
   ]
  },
  {
   "cell_type": "markdown",
   "id": "bf074f4b",
   "metadata": {},
   "source": [
    "## Cleaning up the store information.\n",
    "\n",
    "As hinted at above, the presence of the `\"` meant the two of the columns--one containing the store type/number and the other contain the address/phone number--are combined together.  This was done because some of these entries have a different number of variables.  For example, the store type/number column sometimes occasionally `Gas`.\n",
    "\n",
    "In this part of the activity, you should apply the iterative OpenRefine approach to separate the information in the store column.\n",
    "\n",
    "**Warning!** There is one entry that doesn't follow the same pattern as the rest.  You won't find this entry unless you carefully define/fix/eliminate patterns."
   ]
  },
  {
   "cell_type": "code",
   "execution_count": 30,
   "id": "920e6069",
   "metadata": {},
   "outputs": [],
   "source": [
    "from more_dfply import case_when, ifelse\n",
    "from more_dfply.facets import text_facet, text_filter\n",
    "\n",
    "# Your code here."
   ]
  },
  {
   "cell_type": "code",
   "execution_count": 78,
   "id": "05be142b",
   "metadata": {},
   "outputs": [
    {
     "data": {
      "text/html": [
       "<div>\n",
       "<style scoped>\n",
       "    .dataframe tbody tr th:only-of-type {\n",
       "        vertical-align: middle;\n",
       "    }\n",
       "\n",
       "    .dataframe tbody tr th {\n",
       "        vertical-align: top;\n",
       "    }\n",
       "\n",
       "    .dataframe thead th {\n",
       "        text-align: right;\n",
       "    }\n",
       "</style>\n",
       "<table border=\"1\" class=\"dataframe\">\n",
       "  <thead>\n",
       "    <tr style=\"text-align: right;\">\n",
       "      <th></th>\n",
       "      <th>store</th>\n",
       "    </tr>\n",
       "  </thead>\n",
       "  <tbody>\n",
       "    <tr>\n",
       "      <th>0</th>\n",
       "      <td>Walmart Supercentre; #1050,</td>\n",
       "    </tr>\n",
       "    <tr>\n",
       "      <th>1</th>\n",
       "      <td>Walmart Supercentre; #3658,</td>\n",
       "    </tr>\n",
       "    <tr>\n",
       "      <th>2</th>\n",
       "      <td>Walmart Supercentre; #3013,</td>\n",
       "    </tr>\n",
       "    <tr>\n",
       "      <th>4</th>\n",
       "      <td>Walmart; #1144,</td>\n",
       "    </tr>\n",
       "    <tr>\n",
       "      <th>5</th>\n",
       "      <td>Walmart Supercentre; #1136,</td>\n",
       "    </tr>\n",
       "    <tr>\n",
       "      <th>...</th>\n",
       "      <td>...</td>\n",
       "    </tr>\n",
       "    <tr>\n",
       "      <th>6810</th>\n",
       "      <td>Walmart Supercenter; #1412,</td>\n",
       "    </tr>\n",
       "    <tr>\n",
       "      <th>6812</th>\n",
       "      <td>Walmart Supercenter; #1457,</td>\n",
       "    </tr>\n",
       "    <tr>\n",
       "      <th>6813</th>\n",
       "      <td>Walmart Supercenter; #1461,</td>\n",
       "    </tr>\n",
       "    <tr>\n",
       "      <th>6814</th>\n",
       "      <td>Walmart Supercenter; #1508,</td>\n",
       "    </tr>\n",
       "    <tr>\n",
       "      <th>6815</th>\n",
       "      <td>Walmart Supercentre; #3191,</td>\n",
       "    </tr>\n",
       "  </tbody>\n",
       "</table>\n",
       "<p>3842 rows × 1 columns</p>\n",
       "</div>"
      ],
      "text/plain": [
       "                            store\n",
       "0     Walmart Supercentre; #1050,\n",
       "1     Walmart Supercentre; #3658,\n",
       "2     Walmart Supercentre; #3013,\n",
       "4                 Walmart; #1144,\n",
       "5     Walmart Supercentre; #1136,\n",
       "...                           ...\n",
       "6810  Walmart Supercenter; #1412,\n",
       "6812  Walmart Supercenter; #1457,\n",
       "6813  Walmart Supercenter; #1461,\n",
       "6814  Walmart Supercenter; #1508,\n",
       "6815  Walmart Supercentre; #3191,\n",
       "\n",
       "[3842 rows x 1 columns]"
      ]
     },
     "execution_count": 78,
     "metadata": {},
     "output_type": "execute_result"
    }
   ],
   "source": [
    "(walmart_headers\n",
    "    >> select(X.store)\n",
    "    >> filter_by(~text_filter(X.store, 'Gas/Diesel', regex = True))\n",
    "    >> filter_by(~text_filter(X.store, 'Gas,$', regex = True))\n",
    ")"
   ]
  },
  {
   "cell_type": "code",
   "execution_count": 124,
   "id": "75d4f3ec",
   "metadata": {},
   "outputs": [
    {
     "name": "stderr",
     "output_type": "stream",
     "text": [
      "/home/wz8878wh/.pyenv/versions/anaconda3-2022.05/lib/python3.9/site-packages/more_dfply/facets.py:30: UserWarning: This pattern is interpreted as a regular expression, and has match groups. To actually get the groups, use str.extract.\n",
      "  return col.str.contains(pattern, case=case, regex=regex, na=na)\n"
     ]
    },
    {
     "data": {
      "text/html": [
       "<div>\n",
       "<style scoped>\n",
       "    .dataframe tbody tr th:only-of-type {\n",
       "        vertical-align: middle;\n",
       "    }\n",
       "\n",
       "    .dataframe tbody tr th {\n",
       "        vertical-align: top;\n",
       "    }\n",
       "\n",
       "    .dataframe thead th {\n",
       "        text-align: right;\n",
       "    }\n",
       "</style>\n",
       "<table border=\"1\" class=\"dataframe\">\n",
       "  <thead>\n",
       "    <tr style=\"text-align: right;\">\n",
       "      <th></th>\n",
       "      <th>store</th>\n",
       "    </tr>\n",
       "  </thead>\n",
       "  <tbody>\n",
       "    <tr>\n",
       "      <th>0</th>\n",
       "      <td>Walmart Supercentre; #1050,</td>\n",
       "    </tr>\n",
       "    <tr>\n",
       "      <th>1</th>\n",
       "      <td>Walmart Supercentre; #3658,</td>\n",
       "    </tr>\n",
       "    <tr>\n",
       "      <th>2</th>\n",
       "      <td>Walmart Supercentre; #3013,</td>\n",
       "    </tr>\n",
       "    <tr>\n",
       "      <th>3</th>\n",
       "      <td>Walmart Supercentre; #3009,Gas,</td>\n",
       "    </tr>\n",
       "    <tr>\n",
       "      <th>4</th>\n",
       "      <td>Walmart; #1144,</td>\n",
       "    </tr>\n",
       "    <tr>\n",
       "      <th>...</th>\n",
       "      <td>...</td>\n",
       "    </tr>\n",
       "    <tr>\n",
       "      <th>6811</th>\n",
       "      <td>Walmart Supercenter; #4471,Gas,</td>\n",
       "    </tr>\n",
       "    <tr>\n",
       "      <th>6812</th>\n",
       "      <td>Walmart Supercenter; #1457,</td>\n",
       "    </tr>\n",
       "    <tr>\n",
       "      <th>6813</th>\n",
       "      <td>Walmart Supercenter; #1461,</td>\n",
       "    </tr>\n",
       "    <tr>\n",
       "      <th>6814</th>\n",
       "      <td>Walmart Supercenter; #1508,</td>\n",
       "    </tr>\n",
       "    <tr>\n",
       "      <th>6815</th>\n",
       "      <td>Walmart Supercentre; #3191,</td>\n",
       "    </tr>\n",
       "  </tbody>\n",
       "</table>\n",
       "<p>4351 rows × 1 columns</p>\n",
       "</div>"
      ],
      "text/plain": [
       "                                store\n",
       "0         Walmart Supercentre; #1050,\n",
       "1         Walmart Supercentre; #3658,\n",
       "2         Walmart Supercentre; #3013,\n",
       "3     Walmart Supercentre; #3009,Gas,\n",
       "4                     Walmart; #1144,\n",
       "...                               ...\n",
       "6811  Walmart Supercenter; #4471,Gas,\n",
       "6812      Walmart Supercenter; #1457,\n",
       "6813      Walmart Supercenter; #1461,\n",
       "6814      Walmart Supercenter; #1508,\n",
       "6815      Walmart Supercentre; #3191,\n",
       "\n",
       "[4351 rows x 1 columns]"
      ]
     },
     "execution_count": 124,
     "metadata": {},
     "output_type": "execute_result"
    }
   ],
   "source": [
    "(walmart_headers\n",
    "    >> select(X.store)\n",
    "    >> filter_by(text_filter(X.store, r'Walmart( Supercentre| Supercenter)?; #\\d{4},', regex = True))\n",
    "    # >> filter_by(~text_filter(X.store, r'Murphy: USA;', regex = True))\n",
    "    # >> filter_by(~text_filter(X.store, r'Wm Nbrhd Mkt;', regex = True))\n",
    "    # >> filter_by(~text_filter(X.store, r\"Sam's Club;\", regex = True))\n",
    "    # >> filter_by(~text_filter(X.store, r'Wm Pharmacy/Clinic;', regex = True))\n",
    ")"
   ]
  },
  {
   "cell_type": "code",
   "execution_count": 118,
   "id": "26904a85",
   "metadata": {},
   "outputs": [
    {
     "name": "stderr",
     "output_type": "stream",
     "text": [
      "/home/wz8878wh/.pyenv/versions/anaconda3-2022.05/lib/python3.9/site-packages/more_dfply/facets.py:30: UserWarning: This pattern is interpreted as a regular expression, and has match groups. To actually get the groups, use str.extract.\n",
      "  return col.str.contains(pattern, case=case, regex=regex, na=na)\n"
     ]
    },
    {
     "data": {
      "text/html": [
       "<div>\n",
       "<style scoped>\n",
       "    .dataframe tbody tr th:only-of-type {\n",
       "        vertical-align: middle;\n",
       "    }\n",
       "\n",
       "    .dataframe tbody tr th {\n",
       "        vertical-align: top;\n",
       "    }\n",
       "\n",
       "    .dataframe thead th {\n",
       "        text-align: right;\n",
       "    }\n",
       "</style>\n",
       "<table border=\"1\" class=\"dataframe\">\n",
       "  <thead>\n",
       "    <tr style=\"text-align: right;\">\n",
       "      <th></th>\n",
       "      <th>store</th>\n",
       "      <th>fuel_type</th>\n",
       "      <th>store_type</th>\n",
       "    </tr>\n",
       "  </thead>\n",
       "  <tbody>\n",
       "    <tr>\n",
       "      <th>0</th>\n",
       "      <td>Walmart Supercentre; #1050,</td>\n",
       "      <td>None</td>\n",
       "      <td>Walmart Supercentre</td>\n",
       "    </tr>\n",
       "    <tr>\n",
       "      <th>1</th>\n",
       "      <td>Walmart Supercentre; #3658,</td>\n",
       "      <td>None</td>\n",
       "      <td>Walmart Supercentre</td>\n",
       "    </tr>\n",
       "    <tr>\n",
       "      <th>2</th>\n",
       "      <td>Walmart Supercentre; #3013,</td>\n",
       "      <td>None</td>\n",
       "      <td>Walmart Supercentre</td>\n",
       "    </tr>\n",
       "    <tr>\n",
       "      <th>3</th>\n",
       "      <td>Walmart Supercentre; #3009,Gas,</td>\n",
       "      <td>Gas</td>\n",
       "      <td>Walmart Supercentre</td>\n",
       "    </tr>\n",
       "    <tr>\n",
       "      <th>4</th>\n",
       "      <td>Walmart; #1144,</td>\n",
       "      <td>None</td>\n",
       "      <td>Walmart</td>\n",
       "    </tr>\n",
       "    <tr>\n",
       "      <th>...</th>\n",
       "      <td>...</td>\n",
       "      <td>...</td>\n",
       "      <td>...</td>\n",
       "    </tr>\n",
       "    <tr>\n",
       "      <th>6811</th>\n",
       "      <td>Walmart Supercenter; #4471,Gas,</td>\n",
       "      <td>Gas</td>\n",
       "      <td>Walmart Supercenter</td>\n",
       "    </tr>\n",
       "    <tr>\n",
       "      <th>6812</th>\n",
       "      <td>Walmart Supercenter; #1457,</td>\n",
       "      <td>None</td>\n",
       "      <td>Walmart Supercenter</td>\n",
       "    </tr>\n",
       "    <tr>\n",
       "      <th>6813</th>\n",
       "      <td>Walmart Supercenter; #1461,</td>\n",
       "      <td>None</td>\n",
       "      <td>Walmart Supercenter</td>\n",
       "    </tr>\n",
       "    <tr>\n",
       "      <th>6814</th>\n",
       "      <td>Walmart Supercenter; #1508,</td>\n",
       "      <td>None</td>\n",
       "      <td>Walmart Supercenter</td>\n",
       "    </tr>\n",
       "    <tr>\n",
       "      <th>6815</th>\n",
       "      <td>Walmart Supercentre; #3191,</td>\n",
       "      <td>None</td>\n",
       "      <td>Walmart Supercentre</td>\n",
       "    </tr>\n",
       "  </tbody>\n",
       "</table>\n",
       "<p>6816 rows × 3 columns</p>\n",
       "</div>"
      ],
      "text/plain": [
       "                                store fuel_type           store_type\n",
       "0         Walmart Supercentre; #1050,      None  Walmart Supercentre\n",
       "1         Walmart Supercentre; #3658,      None  Walmart Supercentre\n",
       "2         Walmart Supercentre; #3013,      None  Walmart Supercentre\n",
       "3     Walmart Supercentre; #3009,Gas,       Gas  Walmart Supercentre\n",
       "4                     Walmart; #1144,      None              Walmart\n",
       "...                               ...       ...                  ...\n",
       "6811  Walmart Supercenter; #4471,Gas,       Gas  Walmart Supercenter\n",
       "6812      Walmart Supercenter; #1457,      None  Walmart Supercenter\n",
       "6813      Walmart Supercenter; #1461,      None  Walmart Supercenter\n",
       "6814      Walmart Supercenter; #1508,      None  Walmart Supercenter\n",
       "6815      Walmart Supercentre; #3191,      None  Walmart Supercentre\n",
       "\n",
       "[6816 rows x 3 columns]"
      ]
     },
     "execution_count": 118,
     "metadata": {},
     "output_type": "execute_result"
    }
   ],
   "source": [
    "(walmart_headers\n",
    "    >> select(X.store)\n",
    "    >> mutate(fuel_type = case_when((text_filter(X.store, r'Gas/Diesel'), 'Gas/Diesel'),\n",
    "                                    (text_filter(X.store, r'Gas,$', regex = True), 'Gas'),\n",
    "                                    (True, 'None')))\n",
    "    >> mutate(store_type = case_when((text_filter(X.store, r'Walmart( Supercentre| Supercenter)?;', regex = True), X.store.str.split(';').str.get(0)),\n",
    "                                     (text_filter(X.store, r'Murphy: USA', regex = True), X.store.str.split(';').str.get(0)),\n",
    "                                     (text_filter(X.store, r'Wm Nbrhd Mkt;', regex = True), X.store.str.split(';').str.get(0)),\n",
    "                                     (text_filter(X.store, r\"Sam's Club;\", regex = True), X.store.str.split(';').str.get(0)),\n",
    "                                     (text_filter(X.store, r'Wm Pharmacy/Clinic;', regex = True), X.store.str.split(';').str.get(0))))\n",
    ")\n",
    "                                     \n",
    "    # >> mutate(store_number = case_when((text_filter(X.store, 'Walmart( Supercentre| Supercenter)?;', X.store.str.extract('(/d/d/d/d)')))))\n"
   ]
  },
  {
   "cell_type": "markdown",
   "id": "aa609e49",
   "metadata": {},
   "source": [
    "## Preview of Coming Attractions\n",
    "\n",
    "In this module's homework assignment, you will continue to clean up this data set."
   ]
  }
 ],
 "metadata": {
  "kernelspec": {
   "display_name": "Python 3.9.12 64-bit ('base')",
   "language": "python",
   "name": "python3"
  },
  "language_info": {
   "codemirror_mode": {
    "name": "ipython",
    "version": 3
   },
   "file_extension": ".py",
   "mimetype": "text/x-python",
   "name": "python",
   "nbconvert_exporter": "python",
   "pygments_lexer": "ipython3",
   "version": "3.9.12"
  },
  "vscode": {
   "interpreter": {
    "hash": "34da767f49dea9edbbc5e83aec14ec7c721dd9d9b0234afdf20e34ac38737167"
   }
  }
 },
 "nbformat": 4,
 "nbformat_minor": 5
}
